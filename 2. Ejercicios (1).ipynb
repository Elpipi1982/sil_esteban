{
 "cells": [
  {
   "cell_type": "markdown",
   "metadata": {},
   "source": [
    "#### **Ejercicio 1: Creación y manipulación de Series**\n",
    "1. Crea una Serie que contenga las ventas de una tienda de lunes a viernes. Utiliza las siguientes cantidades:\n",
    "   - Lunes: 100\n",
    "   - Martes: 150\n",
    "   - Miércoles: 200\n",
    "   - Jueves: 50\n",
    "   - Viernes: 300\n",
    "   \n",
    "2. Realiza las siguientes operaciones sobre la Serie:\n",
    "   - Accede al valor de las ventas del miércoles.\n",
    "   - Calcula el total de ventas de la semana.\n",
    "   - Filtra los días donde las ventas fueron mayores a 100."
   ]
  },
  {
   "cell_type": "code",
   "execution_count": 1,
   "metadata": {},
   "outputs": [],
   "source": [
    "import pandas as pd"
   ]
  },
  {
   "cell_type": "code",
   "execution_count": 5,
   "metadata": {},
   "outputs": [
    {
     "name": "stdout",
     "output_type": "stream",
     "text": [
      "Lunes        100\n",
      "Martes       150\n",
      "Miercoles    200\n",
      "Jueves        50\n",
      "Viernes      300\n",
      "dtype: int64\n"
     ]
    }
   ],
   "source": [
    "tienda1=pd.Series([100,150,200,50,300], index=['Lunes', 'Martes', 'Miercoles', 'Jueves', 'Viernes'])\n",
    "print(tienda1)\n"
   ]
  },
  {
   "cell_type": "code",
   "execution_count": 6,
   "metadata": {},
   "outputs": [
    {
     "name": "stdout",
     "output_type": "stream",
     "text": [
      "200\n"
     ]
    }
   ],
   "source": [
    "print(tienda1['Miercoles'])"
   ]
  },
  {
   "cell_type": "code",
   "execution_count": 7,
   "metadata": {},
   "outputs": [
    {
     "name": "stdout",
     "output_type": "stream",
     "text": [
      "800\n"
     ]
    }
   ],
   "source": [
    "print(tienda1.sum())"
   ]
  },
  {
   "cell_type": "code",
   "execution_count": 8,
   "metadata": {},
   "outputs": [
    {
     "name": "stdout",
     "output_type": "stream",
     "text": [
      "Martes       150\n",
      "Miercoles    200\n",
      "Viernes      300\n",
      "dtype: int64\n"
     ]
    }
   ],
   "source": [
    "print(tienda1[tienda1>100])"
   ]
  },
  {
   "cell_type": "markdown",
   "metadata": {},
   "source": [
    "#### **Ejercicio 2: Creación y análisis de un DataFrame**\n",
    "1. Crea un DataFrame que contenga los nombres y edades de las siguientes personas:\n",
    "   - Ana, 23 años\n",
    "   - Luis, 35 años\n",
    "   - María, 29 años\n",
    "   \n",
    "2. Realiza las siguientes operaciones sobre el DataFrame:\n",
    "   - Accede a la columna de los nombres.\n",
    "   - Filtra las filas donde la edad sea mayor a 25.\n",
    "   - Agrega una nueva columna con los salarios de las personas (Ana: 30000, Luis: 45000, María: 35000)."
   ]
  },
  {
   "cell_type": "code",
   "execution_count": 9,
   "metadata": {},
   "outputs": [
    {
     "name": "stdout",
     "output_type": "stream",
     "text": [
      "  Nombre  Edad\n",
      "0    Ana    23\n",
      "1   Luis    35\n",
      "2  María    29\n"
     ]
    }
   ],
   "source": [
    "alumnos = {'Nombre': ['Ana', 'Luis', 'María'], 'Edad': [23, 35, 29]}\n",
    "al = pd.DataFrame(alumnos)\n",
    "print(al)"
   ]
  },
  {
   "cell_type": "code",
   "execution_count": 11,
   "metadata": {},
   "outputs": [
    {
     "name": "stdout",
     "output_type": "stream",
     "text": [
      "0      Ana\n",
      "1     Luis\n",
      "2    María\n",
      "Name: Nombre, dtype: object\n"
     ]
    }
   ],
   "source": [
    "print(al['Nombre'])"
   ]
  },
  {
   "cell_type": "code",
   "execution_count": 12,
   "metadata": {},
   "outputs": [
    {
     "name": "stdout",
     "output_type": "stream",
     "text": [
      "  Nombre  Edad\n",
      "1   Luis    35\n",
      "2  María    29\n"
     ]
    }
   ],
   "source": [
    "print(al[al['Edad'] > 25])"
   ]
  },
  {
   "cell_type": "code",
   "execution_count": 13,
   "metadata": {},
   "outputs": [
    {
     "name": "stdout",
     "output_type": "stream",
     "text": [
      "  Nombre  Edad  Salario\n",
      "0    Ana    23    30000\n",
      "1   Luis    35    45000\n",
      "2  María    29    35000\n"
     ]
    }
   ],
   "source": [
    "al['Salario'] = [30000, 45000, 35000]\n",
    "print(al)\n"
   ]
  },
  {
   "cell_type": "markdown",
   "metadata": {},
   "source": [
    "#### **Ejercicio 3: Cálculos con DataFrames**\n",
    "1. Crea un DataFrame con información de ventas de productos en una tienda:\n",
    "   - Productos: \"Laptop\", \"Mouse\", \"Teclado\"\n",
    "   - Ventas: 30, 120, 75\n",
    "   - Precio por unidad: 1000, 50, 80\n",
    "\n",
    "2. Calcula:\n",
    "   - La venta total para cada producto (multiplicando el precio por unidad por las ventas).\n",
    "   - El total de ingresos para todos los productos."
   ]
  },
  {
   "cell_type": "code",
   "execution_count": 23,
   "metadata": {},
   "outputs": [
    {
     "name": "stdout",
     "output_type": "stream",
     "text": [
      "  productos  Ventas  Precio por unidad\n",
      "0    Laptop      30               1000\n",
      "1     Mouse     120                 50\n",
      "2   Teclado      75                 80\n"
     ]
    }
   ],
   "source": [
    "tienda2 = {'productos': ['Laptop', 'Mouse', 'Teclado'], \n",
    "           'Ventas': [30, 120, 75], 'Precio por unidad': [1000, 50, 80]}\n",
    "ti2 = pd.DataFrame(tienda2)\n",
    "print(ti2)"
   ]
  },
  {
   "cell_type": "code",
   "execution_count": 24,
   "metadata": {},
   "outputs": [
    {
     "name": "stdout",
     "output_type": "stream",
     "text": [
      "  productos  Ventas  Precio por unidad  Venta total\n",
      "0    Laptop      30               1000        30000\n",
      "1     Mouse     120                 50         6000\n",
      "2   Teclado      75                 80         6000\n"
     ]
    }
   ],
   "source": [
    "\n",
    "ti2['Venta total'] = ti2['Ventas']*ti2['Precio por unidad']\n",
    "\n",
    "print(ti2)"
   ]
  },
  {
   "cell_type": "code",
   "execution_count": 31,
   "metadata": {},
   "outputs": [
    {
     "name": "stdout",
     "output_type": "stream",
     "text": [
      "42000\n"
     ]
    }
   ],
   "source": [
    "print(ti2['Venta total'].sum())"
   ]
  },
  {
   "cell_type": "markdown",
   "metadata": {},
   "source": [
    "#### **Ejercicio 4: Transformación y limpieza de datos en DataFrames**\n",
    "1. Crea un DataFrame con información de estudiantes y sus calificaciones en tres materias:\n",
    "   - Estudiantes: \"Ana\", \"Luis\", \"María\", \"Carlos\"\n",
    "   - Matemáticas: 90, 85, None, 78\n",
    "   - Ciencia: 88, 92, 85, None\n",
    "   - Historia: 75, None, 80, 90\n",
    "\n",
    "2. Realiza las siguientes operaciones:\n",
    "   - Rellena los valores faltantes con la media de cada columna.\n",
    "   - Renombra las columnas de las materias en inglés (Math, Science, History).\n",
    "   - Calcula la calificación promedio de cada estudiante."
   ]
  },
  {
   "cell_type": "code",
   "execution_count": 54,
   "metadata": {},
   "outputs": [
    {
     "name": "stdout",
     "output_type": "stream",
     "text": [
      "  Estudiantes  Matematicas  Ciencia  Historia\n",
      "0         Ana         90.0     88.0      75.0\n",
      "1        LUis         85.0     92.0       NaN\n",
      "2       Maria          NaN     85.0      80.0\n",
      "3      Carlos         78.0      NaN      90.0\n"
     ]
    }
   ],
   "source": [
    "clase = {'Estudiantes': ['Ana', 'LUis', 'Maria', 'Carlos'], \n",
    "         'Matematicas': [90, 85, None, 78], \n",
    "         'Ciencia': [88, 92, 85, None],\n",
    "         'Historia': [75, None, 80, 90]}\n",
    "cl= pd.DataFrame(clase)\n",
    "print(cl)"
   ]
  },
  {
   "cell_type": "code",
   "execution_count": 52,
   "metadata": {},
   "outputs": [],
   "source": [
    "import numpy as np"
   ]
  },
  {
   "cell_type": "code",
   "execution_count": 55,
   "metadata": {},
   "outputs": [
    {
     "name": "stdout",
     "output_type": "stream",
     "text": [
      "  Estudiantes  Matematicas    Ciencia   Historia\n",
      "0         Ana    90.000000  88.000000  75.000000\n",
      "1        LUis    85.000000  92.000000  81.666667\n",
      "2       Maria    84.333333  85.000000  80.000000\n",
      "3      Carlos    78.000000  88.333333  90.000000\n"
     ]
    }
   ],
   "source": [
    "cl['Matematicas'] =cl['Matematicas'].fillna(cl['Matematicas'].mean())\n",
    "cl['Ciencia'] = cl['Ciencia'].fillna(cl['Ciencia'].mean())\n",
    "cl['Historia'] = cl['Historia'].fillna(cl['Historia'].mean())\n",
    "print(cl)"
   ]
  },
  {
   "cell_type": "code",
   "execution_count": 57,
   "metadata": {},
   "outputs": [
    {
     "name": "stdout",
     "output_type": "stream",
     "text": [
      "  Estudiantes       Math    Science    History\n",
      "0         Ana  90.000000  88.000000  75.000000\n",
      "1        LUis  85.000000  92.000000  81.666667\n",
      "2       Maria  84.333333  85.000000  80.000000\n",
      "3      Carlos  78.000000  88.333333  90.000000\n"
     ]
    }
   ],
   "source": [
    "cl.rename(columns={'Matematicas': 'Math', 'Ciencia': 'Science', 'Historia': 'History'}, inplace=True)\n",
    "print(cl)"
   ]
  },
  {
   "cell_type": "code",
   "execution_count": 62,
   "metadata": {},
   "outputs": [
    {
     "name": "stdout",
     "output_type": "stream",
     "text": [
      "  Estudiantes       Math    Science    History   Promedio\n",
      "0         Ana  90.000000  88.000000  75.000000  84.333333\n",
      "1        LUis  85.000000  92.000000  81.666667  86.222222\n",
      "2       Maria  84.333333  85.000000  80.000000  83.111111\n",
      "3      Carlos  78.000000  88.333333  90.000000  85.444444\n"
     ]
    }
   ],
   "source": [
    "cl['Promedio'] = cl[['Math', 'Science', 'History']].mean(axis=1)\n",
    "print(cl)"
   ]
  }
 ],
 "metadata": {
  "kernelspec": {
   "display_name": "entornovirtual_sil",
   "language": "python",
   "name": "python3"
  },
  "language_info": {
   "codemirror_mode": {
    "name": "ipython",
    "version": 3
   },
   "file_extension": ".py",
   "mimetype": "text/x-python",
   "name": "python",
   "nbconvert_exporter": "python",
   "pygments_lexer": "ipython3",
   "version": "3.12.6"
  }
 },
 "nbformat": 4,
 "nbformat_minor": 2
}
